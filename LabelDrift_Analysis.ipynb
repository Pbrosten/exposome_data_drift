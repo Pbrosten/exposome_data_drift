{
 "cells": [
  {
   "attachments": {},
   "cell_type": "markdown",
   "metadata": {},
   "source": [
    "# Conduct SHAP analysis to characterize drift\n",
    "\n",
    "* Compare drift on External Test versus Traceability sets (mean abs)\n",
    "* Compare time-evolution of reference set (Training and External Test) and analysis set (Traceability)"
   ]
  },
  {
   "cell_type": "code",
   "execution_count": 1,
   "metadata": {},
   "outputs": [],
   "source": [
    "import pandas as pd\n",
    "import numpy as np\n",
    "import pickle\n",
    "from datetime import timedelta\n",
    "# SHAP\n",
    "import shap\n",
    "# Visualization\n",
    "import matplotlib.pyplot as plt\n",
    "import seaborn as sns\n",
    "import nannyml as nml\n",
    "colors =  nml.plots.colors.Colors\n",
    "# SKLEARN\n",
    "from sklearn.model_selection import KFold\n",
    "PROCESSED = \"Processed/\""
   ]
  },
  {
   "attachments": {},
   "cell_type": "markdown",
   "metadata": {},
   "source": [
    "### Construct time-ordered batches"
   ]
  },
  {
   "cell_type": "code",
   "execution_count": 2,
   "metadata": {},
   "outputs": [],
   "source": [
    "# Load model and data\n",
    "with open(f\"{PROCESSED}trainCohort\", \"rb\") as fp:\n",
    "    train = pickle.load(fp)\n",
    "with open(f\"{PROCESSED}externalCohort\", \"rb\") as fp:\n",
    "    test = pickle.load(fp)\n",
    "with open(f\"{PROCESSED}traceCohort\", \"rb\") as fp:\n",
    "    trace = pickle.load(fp)"
   ]
  },
  {
   "cell_type": "code",
   "execution_count": 3,
   "metadata": {},
   "outputs": [],
   "source": [
    "# Load feature subspace\n",
    "with open(\"best_features\", \"rb\") as fp:\n",
    "    best_features = pickle.load(fp)"
   ]
  },
  {
   "cell_type": "code",
   "execution_count": 4,
   "metadata": {},
   "outputs": [],
   "source": [
    "timeline = pd.read_csv(\"Data/f.53.tab\",\n",
    "            delimiter=\"\\t\",\n",
    "            index_col=\"f.eid\",\n",
    "            parse_dates=['f.53.0.0', 'f.53.1.0'],\n",
    "            usecols=['f.eid','f.53.0.0', 'f.53.1.0'])"
   ]
  },
  {
   "cell_type": "code",
   "execution_count": 5,
   "metadata": {},
   "outputs": [],
   "source": [
    "trainOrdered = train.merge(\n",
    "    timeline['f.53.0.0'],\n",
    "    how='left',\n",
    "    left_index=True, right_index=True\n",
    "    ).rename({'f.53.0.0': 'time'}, axis=1).sort_values('time')\n",
    "\n",
    "testOrdered = test.merge(\n",
    "    timeline['f.53.0.0'],\n",
    "    how='left',\n",
    "    left_index=True, right_index=True\n",
    "    ).rename({'f.53.0.0': 'time'}, axis=1).sort_values('time')\n",
    "\n",
    "traceOrdered = trace.merge(\n",
    "    timeline['f.53.1.0'],\n",
    "    how='left',\n",
    "    left_index=True, right_index=True\n",
    "    ).rename({'f.53.1.0': 'time'}, axis=1).sort_values('time')"
   ]
  },
  {
   "cell_type": "code",
   "execution_count": 6,
   "metadata": {},
   "outputs": [],
   "source": [
    "trainExtOrdered = pd.concat(\n",
    "    [trainOrdered, testOrdered],\n",
    "    axis=0).sort_values(\"time\")"
   ]
  },
  {
   "cell_type": "code",
   "execution_count": 7,
   "metadata": {},
   "outputs": [],
   "source": [
    "def split_dataframe(df, chunk_size):\n",
    "    chunks = []\n",
    "    num_chunks = len(df) // chunk_size\n",
    "    remainder = len(df) % chunk_size\n",
    "    \n",
    "    # Split the DataFrame into chunks of chunk_size\n",
    "    for i in range(num_chunks):\n",
    "        start = i * chunk_size\n",
    "        end = start + chunk_size\n",
    "        chunks.append(df[start:end])\n",
    "    \n",
    "    # Handle the remainder\n",
    "    if remainder != 0:\n",
    "        chunks.append(df[-remainder:])\n",
    "    \n",
    "    return chunks\n",
    "\n",
    "# Example usage\n",
    "\n",
    "chunk_size = 500\n",
    "evalBatches = []\n",
    "split_data = split_dataframe(trainExtOrdered, chunk_size)\n",
    "\n",
    "# Access individual splits\n",
    "for i, split in enumerate(split_data):\n",
    "    batchDict = {\n",
    "        \"data\": None,\n",
    "        \"startDate\": None,\n",
    "        \"endDate\": None,\n",
    "        \"Source\" : None,\n",
    "        \"nSHAP\" : None\n",
    "    }\n",
    "    batchDict[\"data\"] = split.drop(\"time\", axis=1)\n",
    "    batchDict[\"startDate\"] = split.time.min()\n",
    "    batchDict[\"endDate\"] = split.time.max()\n",
    "    batchDict[\"Source\"] = \"reference\"\n",
    "\n",
    "    evalBatches.append(batchDict)\n",
    "\n",
    "split_data = split_dataframe(traceOrdered, chunk_size)\n",
    "for i, split in enumerate(split_data):\n",
    "    batchDict = {\n",
    "        \"data\": None,\n",
    "        \"startDate\": None,\n",
    "        \"endDate\": None,\n",
    "        \"Source\" : None,\n",
    "        \"nSHAP\" : None\n",
    "    }\n",
    "    batchDict[\"data\"] = split.drop(\"time\", axis=1)\n",
    "    batchDict[\"startDate\"] = split.time.min()\n",
    "    batchDict[\"endDate\"] = split.time.max()\n",
    "    batchDict[\"Source\"] = \"analysis\"\n",
    "\n",
    "    evalBatches.append(batchDict)"
   ]
  },
  {
   "attachments": {},
   "cell_type": "markdown",
   "metadata": {},
   "source": [
    "## Label Drift Analysis"
   ]
  },
  {
   "cell_type": "code",
   "execution_count": 8,
   "metadata": {},
   "outputs": [],
   "source": [
    "with open(f\"{PROCESSED}trainLabels\", \"rb\") as fp:\n",
    "    trainLabels = pickle.load(fp)\n",
    "with open(f\"{PROCESSED}externalLabels\", \"rb\") as fp:\n",
    "    extLabels = pickle.load(fp)\n",
    "with open(f\"{PROCESSED}traceLabels\", \"rb\") as fp:\n",
    "    traceLabels = pickle.load(fp)"
   ]
  },
  {
   "cell_type": "code",
   "execution_count": 9,
   "metadata": {},
   "outputs": [],
   "source": [
    "total_positives = pd.DataFrame().index\n",
    "for dataset in [trainLabels, extLabels, traceLabels]:\n",
    "    total_positives = total_positives.append(dataset[dataset == 1].index)"
   ]
  },
  {
   "cell_type": "code",
   "execution_count": 10,
   "metadata": {},
   "outputs": [],
   "source": [
    "df_PrevRate = pd.DataFrame(columns = [\"prevalenceRate\", \"date\", \"source\"])\n",
    "for i in range(len(evalBatches)):\n",
    "    if evalBatches[i][\"data\"].shape[0] >= 30:\n",
    "        df_PrevRate = pd.concat(\n",
    "            [df_PrevRate,\n",
    "            pd.DataFrame.from_dict(\n",
    "                {\n",
    "                \"prevalenceRate\": [evalBatches[i][\"data\"].index.isin(total_positives).sum() / evalBatches[i][\"data\"].shape[0]],\n",
    "                \"date\": [evalBatches[i][\"startDate\"]],\n",
    "                \"source\": [evalBatches[i][\"Source\"]]\n",
    "                })\n",
    "            ])\n",
    "\n",
    "df_PrevRate = df_PrevRate.set_index(\"date\")\n",
    "source_mean, source_std = df_PrevRate.groupby(\"source\").mean(), df_PrevRate.groupby(\"source\").std()\n",
    "analysis_start = df_PrevRate.query(\"source == 'analysis'\").index.min()"
   ]
  },
  {
   "cell_type": "code",
   "execution_count": 11,
   "metadata": {},
   "outputs": [
    {
     "data": {
      "image/png": "[encoded data removed]",
      "text/plain": [
       "<Figure size 1500x500 with 1 Axes>"
      ]
     },
     "metadata": {},
     "output_type": "display_data"
    }
   ],
   "source": [
    "fig, ax = plt.subplots(figsize=(15,5))\n",
    "\n",
    "ax = sns.lineplot(\n",
    "            x=df_PrevRate.index, y=df_PrevRate.prevalenceRate,\n",
    "            data=df_PrevRate, ax=ax, drawstyle='steps-post',\n",
    "            hue=\"source\", palette = [colors.BLUE_SKY_CRAYOLA, colors.INDIGO_PERSIAN],\n",
    "            ci=None\n",
    "            )\n",
    "plt.axhline(source_mean.loc[\"reference\"].prevalenceRate + 3*source_std.loc[\"reference\"].prevalenceRate, linestyle=\"--\", color=colors.RED_IMPERIAL)\n",
    "plt.axhline(source_mean.loc[\"reference\"].prevalenceRate - 3*source_std.loc[\"reference\"].prevalenceRate, linestyle=\"--\", color=colors.RED_IMPERIAL)\n",
    "plt.axvline(analysis_start, linestyle=\"-\", color=\"grey\")\n",
    "\n",
    "ax.set_ylabel(\"Prevalence Rate\")\n",
    "ax.set_title(\"Diagnosed Prevalence Rate for Diabetes\")\n",
    "\n",
    "plt.show()"
   ]
  }
 ],
 "metadata": {
  "kernelspec": {
   "display_name": "BCN-AIM",
   "language": "python",
   "name": "python3"
  },
  "language_info": {
   "codemirror_mode": {
    "name": "ipython",
    "version": 3
   },
   "file_extension": ".py",
   "mimetype": "text/x-python",
   "name": "python",
   "nbconvert_exporter": "python",
   "pygments_lexer": "ipython3",
   "version": "3.9.0"
  },
  "orig_nbformat": 4,
  "vscode": {
   "interpreter": {
    "hash": "909a9d997b85c868836d057475392b2c89e0b151458f61b4f3e72730e20fe5d1"
   }
  }
 },
 "nbformat": 4,
 "nbformat_minor": 2
}
